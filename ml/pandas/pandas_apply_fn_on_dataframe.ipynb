{
  "nbformat": 4,
  "nbformat_minor": 0,
  "metadata": {
    "colab": {
      "name": "pandas-apply-fn-on-dataframe.ipynb",
      "provenance": [],
      "collapsed_sections": [],
      "authorship_tag": "ABX9TyOaOCnNHO/5UxMG0eTFWBej",
      "include_colab_link": true
    },
    "kernelspec": {
      "name": "python3",
      "display_name": "Python 3"
    },
    "widgets": {
      "application/vnd.jupyter.widget-state+json": {
        "ac748687d2724fa1b5b27c24658a5bb3": {
          "model_module": "@jupyter-widgets/output",
          "model_name": "OutputModel",
          "state": {
            "_view_name": "OutputView",
            "msg_id": "",
            "_dom_classes": [],
            "_model_name": "OutputModel",
            "outputs": [
              {
                "output_type": "display_data",
                "metadata": {
                  "tags": []
                },
                "text/html": "<pre style=\"white-space:pre;overflow-x:auto;line-height:normal;font-family:Menlo,'DejaVu Sans Mono',consolas,'Courier New',monospace\">Overall <span style=\"color: #729c1f; text-decoration-color: #729c1f\">━━━━━━━━━━━━━━━━━━━━━━━━━━━━━━━━━━━━━━━━</span> <span style=\"color: #800080; text-decoration-color: #800080\">100%</span> <span style=\"color: #008080; text-decoration-color: #008080\">0:00:00</span>\nKernels <span style=\"color: #3a3a3a; text-decoration-color: #3a3a3a\">━━━━━━━━━━━━━━━━━━━━━━━━━━━━━━━━━━━━━━━━</span> <span style=\"color: #800080; text-decoration-color: #800080\">  0%</span> <span style=\"color: #008080; text-decoration-color: #008080\">0:00:26</span>\n</pre>\n",
                "text/plain": "Overall \u001b[38;2;114;156;31m━━━━━━━━━━━━━━━━━━━━━━━━━━━━━━━━━━━━━━━━\u001b[0m \u001b[35m100%\u001b[0m \u001b[36m0:00:00\u001b[0m\nKernels \u001b[38;5;237m━━━━━━━━━━━━━━━━━━━━━━━━━━━━━━━━━━━━━━━━\u001b[0m \u001b[35m  0%\u001b[0m \u001b[36m0:00:26\u001b[0m\n"
              }
            ],
            "_view_module": "@jupyter-widgets/output",
            "_model_module_version": "1.0.0",
            "_view_count": null,
            "_view_module_version": "1.0.0",
            "layout": "IPY_MODEL_0f68385d8c224296820ce1df0bb7158a",
            "_model_module": "@jupyter-widgets/output"
          }
        },
        "0f68385d8c224296820ce1df0bb7158a": {
          "model_module": "@jupyter-widgets/base",
          "model_name": "LayoutModel",
          "state": {
            "_view_name": "LayoutView",
            "grid_template_rows": null,
            "right": null,
            "justify_content": null,
            "_view_module": "@jupyter-widgets/base",
            "overflow": null,
            "_model_module_version": "1.2.0",
            "_view_count": null,
            "flex_flow": null,
            "width": null,
            "min_width": null,
            "border": null,
            "align_items": null,
            "bottom": null,
            "_model_module": "@jupyter-widgets/base",
            "top": null,
            "grid_column": null,
            "overflow_y": null,
            "overflow_x": null,
            "grid_auto_flow": null,
            "grid_area": null,
            "grid_template_columns": null,
            "flex": null,
            "_model_name": "LayoutModel",
            "justify_items": null,
            "grid_row": null,
            "max_height": null,
            "align_content": null,
            "visibility": null,
            "align_self": null,
            "height": null,
            "min_height": null,
            "padding": null,
            "grid_auto_rows": null,
            "grid_gap": null,
            "max_width": null,
            "order": null,
            "_view_module_version": "1.2.0",
            "grid_template_areas": null,
            "object_position": null,
            "object_fit": null,
            "grid_auto_columns": null,
            "margin": null,
            "display": null,
            "left": null
          }
        }
      }
    }
  },
  "cells": [
    {
      "cell_type": "markdown",
      "metadata": {
        "id": "view-in-github",
        "colab_type": "text"
      },
      "source": [
        "<a href=\"https://colab.research.google.com/github/scgupta/yearn2learn/blob/master/ml/pandas/pandas_apply_fn_on_dataframe.ipynb\" target=\"_parent\"><img src=\"https://colab.research.google.com/assets/colab-badge.svg\" alt=\"Open In Colab\"/></a>"
      ]
    },
    {
      "cell_type": "markdown",
      "metadata": {
        "id": "SSyUJQr70wl2"
      },
      "source": [
        "# How to efficently apply a function to Pandas Dataframe rows\n",
        "\n",
        "Blog post: [Best Way to Apply a Function to Each Row in Pandas DataFrame](https://medium.com/@scgupta/apply-function-to-pandas-dataframe-rows-76df74165ee4)"
      ]
    },
    {
      "cell_type": "markdown",
      "metadata": {
        "id": "Jiwj6K9a7Zuq"
      },
      "source": [
        "## Setup\n",
        "\n",
        "Install needed libs and import modules."
      ]
    },
    {
      "cell_type": "code",
      "metadata": {
        "id": "8VM04L0t7dor"
      },
      "source": [
        "!pip install \\\n",
        "    datetime pandas numpy \\\n",
        "    faker line_profiler perfplot \\\n",
        "    numba pandarallel dask[dataframe] swifter \\\n",
        "    gpustat \\\n",
        "    &> /dev/null"
      ],
      "execution_count": 1,
      "outputs": []
    },
    {
      "cell_type": "code",
      "metadata": {
        "id": "M6jDUCigwMuQ"
      },
      "source": [
        "%load_ext line_profiler"
      ],
      "execution_count": 2,
      "outputs": []
    },
    {
      "cell_type": "code",
      "metadata": {
        "id": "Zx98I0FB0gtv"
      },
      "source": [
        "import numpy as np\n",
        "import pandas as pd\n",
        "import datetime\n",
        "import perfplot\n",
        "\n",
        "from faker import Faker"
      ],
      "execution_count": 3,
      "outputs": []
    },
    {
      "cell_type": "code",
      "metadata": {
        "id": "KlR_iCmAQAQx",
        "colab": {
          "base_uri": "https://localhost:8080/"
        },
        "outputId": "6f5aed0a-3b28-4603-d619-0cce0356f93b"
      },
      "source": [
        "!lscpu"
      ],
      "execution_count": 4,
      "outputs": [
        {
          "output_type": "stream",
          "text": [
            "Architecture:        x86_64\n",
            "CPU op-mode(s):      32-bit, 64-bit\n",
            "Byte Order:          Little Endian\n",
            "CPU(s):              2\n",
            "On-line CPU(s) list: 0,1\n",
            "Thread(s) per core:  2\n",
            "Core(s) per socket:  1\n",
            "Socket(s):           1\n",
            "NUMA node(s):        1\n",
            "Vendor ID:           GenuineIntel\n",
            "CPU family:          6\n",
            "Model:               79\n",
            "Model name:          Intel(R) Xeon(R) CPU @ 2.20GHz\n",
            "Stepping:            0\n",
            "CPU MHz:             2199.998\n",
            "BogoMIPS:            4399.99\n",
            "Hypervisor vendor:   KVM\n",
            "Virtualization type: full\n",
            "L1d cache:           32K\n",
            "L1i cache:           32K\n",
            "L2 cache:            256K\n",
            "L3 cache:            56320K\n",
            "NUMA node0 CPU(s):   0,1\n",
            "Flags:               fpu vme de pse tsc msr pae mce cx8 apic sep mtrr pge mca cmov pat pse36 clflush mmx fxsr sse sse2 ss ht syscall nx pdpe1gb rdtscp lm constant_tsc rep_good nopl xtopology nonstop_tsc cpuid tsc_known_freq pni pclmulqdq ssse3 fma cx16 pcid sse4_1 sse4_2 x2apic movbe popcnt aes xsave avx f16c rdrand hypervisor lahf_lm abm 3dnowprefetch invpcid_single ssbd ibrs ibpb stibp fsgsbase tsc_adjust bmi1 hle avx2 smep bmi2 erms invpcid rtm rdseed adx smap xsaveopt arat md_clear arch_capabilities\n"
          ],
          "name": "stdout"
        }
      ]
    },
    {
      "cell_type": "code",
      "metadata": {
        "id": "KGx3VA0FP2yG",
        "colab": {
          "base_uri": "https://localhost:8080/"
        },
        "outputId": "12dea81e-4819-4bd7-9d94-1aaf0d163c8f"
      },
      "source": [
        "import multiprocessing\n",
        "\n",
        "CPU_COUNT = multiprocessing.cpu_count()\n",
        "\n",
        "CPU_COUNT"
      ],
      "execution_count": 5,
      "outputs": [
        {
          "output_type": "execute_result",
          "data": {
            "text/plain": [
              "2"
            ]
          },
          "metadata": {
            "tags": []
          },
          "execution_count": 5
        }
      ]
    },
    {
      "cell_type": "code",
      "metadata": {
        "id": "GTH57hIAcgzm",
        "colab": {
          "base_uri": "https://localhost:8080/"
        },
        "outputId": "11c7a00c-11f5-4188-b159-9bcf9f55600c"
      },
      "source": [
        "!nvidia-smi"
      ],
      "execution_count": 6,
      "outputs": [
        {
          "output_type": "stream",
          "text": [
            "NVIDIA-SMI has failed because it couldn't communicate with the NVIDIA driver. Make sure that the latest NVIDIA driver is installed and running.\n",
            "\n"
          ],
          "name": "stdout"
        }
      ]
    },
    {
      "cell_type": "code",
      "metadata": {
        "id": "qgfb6AnKdsPd",
        "colab": {
          "base_uri": "https://localhost:8080/"
        },
        "outputId": "261050a0-56b1-41d7-db57-fded2caee0f5"
      },
      "source": [
        "!gpustat -cp"
      ],
      "execution_count": 7,
      "outputs": [
        {
          "output_type": "stream",
          "text": [
            "Error on querying NVIDIA devices. Use --debug flag for details\n"
          ],
          "name": "stdout"
        }
      ]
    },
    {
      "cell_type": "markdown",
      "metadata": {
        "id": "_0IL8WfzMbui"
      },
      "source": [
        "## Test Data\n",
        "\n",
        "In real life, this data would be read from a CSV file or a data store. But for this tutorial, generating test data to keep it simple."
      ]
    },
    {
      "cell_type": "code",
      "metadata": {
        "id": "VkMVQnxVMYoK"
      },
      "source": [
        "def generate_test_data(size: int, days: int = 30):\n",
        "  fake = Faker()\n",
        "  Faker.seed(42)\n",
        "\n",
        "  PRIORITIES = {\n",
        "    0: 'HIGH',\n",
        "    1: 'MEDIUM',\n",
        "    2: 'LOW'\n",
        "  }\n",
        "\n",
        "  return pd.DataFrame({\n",
        "    'task_name': [\n",
        "      f'Task {i + 1}'\n",
        "      for i in range(size)\n",
        "    ],\n",
        "    'due_date': [\n",
        "      fake.date_between(start_date='today', end_date=f'+{days}d')\n",
        "      for _ in range(size)\n",
        "    ],\n",
        "    'priority': [\n",
        "      PRIORITIES[fake.pyint(min_value=0, max_value=(len(PRIORITIES) - 1))]\n",
        "      for i in range(size)\n",
        "    ]\n",
        "  })\n"
      ],
      "execution_count": 8,
      "outputs": []
    },
    {
      "cell_type": "code",
      "metadata": {
        "id": "UhWpIMDNIc2-",
        "colab": {
          "base_uri": "https://localhost:8080/",
          "height": 537
        },
        "outputId": "8bdc0f18-7ebd-495e-ee13-b9dac1463acd"
      },
      "source": [
        "# Try generate_test_data\n",
        "tmp_df = generate_test_data(10, 5)\n",
        "tmp_df.info()\n",
        "tmp_df.head(10)"
      ],
      "execution_count": 9,
      "outputs": [
        {
          "output_type": "stream",
          "text": [
            "<class 'pandas.core.frame.DataFrame'>\n",
            "RangeIndex: 10 entries, 0 to 9\n",
            "Data columns (total 3 columns):\n",
            " #   Column     Non-Null Count  Dtype \n",
            "---  ------     --------------  ----- \n",
            " 0   task_name  10 non-null     object\n",
            " 1   due_date   10 non-null     object\n",
            " 2   priority   10 non-null     object\n",
            "dtypes: object(3)\n",
            "memory usage: 368.0+ bytes\n"
          ],
          "name": "stdout"
        },
        {
          "output_type": "execute_result",
          "data": {
            "text/html": [
              "<div>\n",
              "<style scoped>\n",
              "    .dataframe tbody tr th:only-of-type {\n",
              "        vertical-align: middle;\n",
              "    }\n",
              "\n",
              "    .dataframe tbody tr th {\n",
              "        vertical-align: top;\n",
              "    }\n",
              "\n",
              "    .dataframe thead th {\n",
              "        text-align: right;\n",
              "    }\n",
              "</style>\n",
              "<table border=\"1\" class=\"dataframe\">\n",
              "  <thead>\n",
              "    <tr style=\"text-align: right;\">\n",
              "      <th></th>\n",
              "      <th>task_name</th>\n",
              "      <th>due_date</th>\n",
              "      <th>priority</th>\n",
              "    </tr>\n",
              "  </thead>\n",
              "  <tbody>\n",
              "    <tr>\n",
              "      <th>0</th>\n",
              "      <td>Task 1</td>\n",
              "      <td>2021-06-26</td>\n",
              "      <td>LOW</td>\n",
              "    </tr>\n",
              "    <tr>\n",
              "      <th>1</th>\n",
              "      <td>Task 2</td>\n",
              "      <td>2021-06-23</td>\n",
              "      <td>LOW</td>\n",
              "    </tr>\n",
              "    <tr>\n",
              "      <th>2</th>\n",
              "      <td>Task 3</td>\n",
              "      <td>2021-06-23</td>\n",
              "      <td>LOW</td>\n",
              "    </tr>\n",
              "    <tr>\n",
              "      <th>3</th>\n",
              "      <td>Task 4</td>\n",
              "      <td>2021-06-27</td>\n",
              "      <td>HIGH</td>\n",
              "    </tr>\n",
              "    <tr>\n",
              "      <th>4</th>\n",
              "      <td>Task 5</td>\n",
              "      <td>2021-06-24</td>\n",
              "      <td>LOW</td>\n",
              "    </tr>\n",
              "    <tr>\n",
              "      <th>5</th>\n",
              "      <td>Task 6</td>\n",
              "      <td>2021-06-24</td>\n",
              "      <td>MEDIUM</td>\n",
              "    </tr>\n",
              "    <tr>\n",
              "      <th>6</th>\n",
              "      <td>Task 7</td>\n",
              "      <td>2021-06-24</td>\n",
              "      <td>HIGH</td>\n",
              "    </tr>\n",
              "    <tr>\n",
              "      <th>7</th>\n",
              "      <td>Task 8</td>\n",
              "      <td>2021-06-23</td>\n",
              "      <td>HIGH</td>\n",
              "    </tr>\n",
              "    <tr>\n",
              "      <th>8</th>\n",
              "      <td>Task 9</td>\n",
              "      <td>2021-06-27</td>\n",
              "      <td>HIGH</td>\n",
              "    </tr>\n",
              "    <tr>\n",
              "      <th>9</th>\n",
              "      <td>Task 10</td>\n",
              "      <td>2021-06-23</td>\n",
              "      <td>HIGH</td>\n",
              "    </tr>\n",
              "  </tbody>\n",
              "</table>\n",
              "</div>"
            ],
            "text/plain": [
              "  task_name    due_date priority\n",
              "0    Task 1  2021-06-26      LOW\n",
              "1    Task 2  2021-06-23      LOW\n",
              "2    Task 3  2021-06-23      LOW\n",
              "3    Task 4  2021-06-27     HIGH\n",
              "4    Task 5  2021-06-24      LOW\n",
              "5    Task 6  2021-06-24   MEDIUM\n",
              "6    Task 7  2021-06-24     HIGH\n",
              "7    Task 8  2021-06-23     HIGH\n",
              "8    Task 9  2021-06-27     HIGH\n",
              "9   Task 10  2021-06-23     HIGH"
            ]
          },
          "metadata": {
            "tags": []
          },
          "execution_count": 9
        }
      ]
    },
    {
      "cell_type": "code",
      "metadata": {
        "id": "RuQ8EIoeb9hK",
        "colab": {
          "base_uri": "https://localhost:8080/",
          "height": 35
        },
        "outputId": "61d658d5-6c1d-4251-999d-97f149f3d686"
      },
      "source": [
        "tmp_df['task_name'].loc[0]"
      ],
      "execution_count": 10,
      "outputs": [
        {
          "output_type": "execute_result",
          "data": {
            "application/vnd.google.colaboratory.intrinsic+json": {
              "type": "string"
            },
            "text/plain": [
              "'Task 1'"
            ]
          },
          "metadata": {
            "tags": []
          },
          "execution_count": 10
        }
      ]
    },
    {
      "cell_type": "code",
      "metadata": {
        "id": "QIlB4k22CQZl",
        "colab": {
          "base_uri": "https://localhost:8080/"
        },
        "outputId": "7c977aff-bfe1-42fd-89b9-3c68f17d3e40"
      },
      "source": [
        "tmp_df['due_date'].loc[0]\n",
        "# pd.to_datetime(tmp_df['due_date']).dt.date.loc[0]"
      ],
      "execution_count": 11,
      "outputs": [
        {
          "output_type": "execute_result",
          "data": {
            "text/plain": [
              "datetime.date(2021, 6, 26)"
            ]
          },
          "metadata": {
            "tags": []
          },
          "execution_count": 11
        }
      ]
    },
    {
      "cell_type": "code",
      "metadata": {
        "id": "Uowr-JbbcDDY",
        "colab": {
          "base_uri": "https://localhost:8080/",
          "height": 35
        },
        "outputId": "dec99a63-505f-416d-e87d-e7dc2a3daa12"
      },
      "source": [
        "tmp_df['priority'].loc[0]"
      ],
      "execution_count": 12,
      "outputs": [
        {
          "output_type": "execute_result",
          "data": {
            "application/vnd.google.colaboratory.intrinsic+json": {
              "type": "string"
            },
            "text/plain": [
              "'LOW'"
            ]
          },
          "metadata": {
            "tags": []
          },
          "execution_count": 12
        }
      ]
    },
    {
      "cell_type": "markdown",
      "metadata": {
        "id": "i3i4ZSQSdGUD"
      },
      "source": [
        "### Generate Test Dataset"
      ]
    },
    {
      "cell_type": "code",
      "metadata": {
        "id": "jMkJuYz33bNW"
      },
      "source": [
        "K_MAX = 21"
      ],
      "execution_count": 13,
      "outputs": []
    },
    {
      "cell_type": "code",
      "metadata": {
        "id": "jsRezhLNdWK6"
      },
      "source": [
        "# Generate a million rows. Use sample from it to create various size data sets\n",
        "# Will take some time as Faker will be called sequencially.\n",
        "test_data_set = generate_test_data(1 + 2 ** K_MAX, 30)"
      ],
      "execution_count": 14,
      "outputs": []
    },
    {
      "cell_type": "code",
      "metadata": {
        "id": "ApFngawExp-E",
        "colab": {
          "base_uri": "https://localhost:8080/",
          "height": 205
        },
        "outputId": "8d976600-6ebf-48a9-9877-edc284a9019a"
      },
      "source": [
        "test_data_set.head(5)"
      ],
      "execution_count": 15,
      "outputs": [
        {
          "output_type": "execute_result",
          "data": {
            "text/html": [
              "<div>\n",
              "<style scoped>\n",
              "    .dataframe tbody tr th:only-of-type {\n",
              "        vertical-align: middle;\n",
              "    }\n",
              "\n",
              "    .dataframe tbody tr th {\n",
              "        vertical-align: top;\n",
              "    }\n",
              "\n",
              "    .dataframe thead th {\n",
              "        text-align: right;\n",
              "    }\n",
              "</style>\n",
              "<table border=\"1\" class=\"dataframe\">\n",
              "  <thead>\n",
              "    <tr style=\"text-align: right;\">\n",
              "      <th></th>\n",
              "      <th>task_name</th>\n",
              "      <th>due_date</th>\n",
              "      <th>priority</th>\n",
              "    </tr>\n",
              "  </thead>\n",
              "  <tbody>\n",
              "    <tr>\n",
              "      <th>0</th>\n",
              "      <td>Task 1</td>\n",
              "      <td>2021-06-28</td>\n",
              "      <td>LOW</td>\n",
              "    </tr>\n",
              "    <tr>\n",
              "      <th>1</th>\n",
              "      <td>Task 2</td>\n",
              "      <td>2021-06-24</td>\n",
              "      <td>HIGH</td>\n",
              "    </tr>\n",
              "    <tr>\n",
              "      <th>2</th>\n",
              "      <td>Task 3</td>\n",
              "      <td>2021-07-06</td>\n",
              "      <td>MEDIUM</td>\n",
              "    </tr>\n",
              "    <tr>\n",
              "      <th>3</th>\n",
              "      <td>Task 4</td>\n",
              "      <td>2021-07-04</td>\n",
              "      <td>LOW</td>\n",
              "    </tr>\n",
              "    <tr>\n",
              "      <th>4</th>\n",
              "      <td>Task 5</td>\n",
              "      <td>2021-07-03</td>\n",
              "      <td>HIGH</td>\n",
              "    </tr>\n",
              "  </tbody>\n",
              "</table>\n",
              "</div>"
            ],
            "text/plain": [
              "  task_name    due_date priority\n",
              "0    Task 1  2021-06-28      LOW\n",
              "1    Task 2  2021-06-24     HIGH\n",
              "2    Task 3  2021-07-06   MEDIUM\n",
              "3    Task 4  2021-07-04      LOW\n",
              "4    Task 5  2021-07-03     HIGH"
            ]
          },
          "metadata": {
            "tags": []
          },
          "execution_count": 15
        }
      ]
    },
    {
      "cell_type": "code",
      "metadata": {
        "id": "xcNRQLUJPHpC"
      },
      "source": [
        "def test_data_sample(size: int):\n",
        "  return test_data_set.sample(n=size).copy().reset_index(drop=True)"
      ],
      "execution_count": 16,
      "outputs": []
    },
    {
      "cell_type": "code",
      "metadata": {
        "id": "DyP1e_64eFVz",
        "colab": {
          "base_uri": "https://localhost:8080/",
          "height": 205
        },
        "outputId": "8bf4f7ef-be6a-4778-8f7a-e8b5e0a8077d"
      },
      "source": [
        "# Test sample of size 10\n",
        "test_data_sample(10).head(5)"
      ],
      "execution_count": 17,
      "outputs": [
        {
          "output_type": "execute_result",
          "data": {
            "text/html": [
              "<div>\n",
              "<style scoped>\n",
              "    .dataframe tbody tr th:only-of-type {\n",
              "        vertical-align: middle;\n",
              "    }\n",
              "\n",
              "    .dataframe tbody tr th {\n",
              "        vertical-align: top;\n",
              "    }\n",
              "\n",
              "    .dataframe thead th {\n",
              "        text-align: right;\n",
              "    }\n",
              "</style>\n",
              "<table border=\"1\" class=\"dataframe\">\n",
              "  <thead>\n",
              "    <tr style=\"text-align: right;\">\n",
              "      <th></th>\n",
              "      <th>task_name</th>\n",
              "      <th>due_date</th>\n",
              "      <th>priority</th>\n",
              "    </tr>\n",
              "  </thead>\n",
              "  <tbody>\n",
              "    <tr>\n",
              "      <th>0</th>\n",
              "      <td>Task 945645</td>\n",
              "      <td>2021-07-21</td>\n",
              "      <td>MEDIUM</td>\n",
              "    </tr>\n",
              "    <tr>\n",
              "      <th>1</th>\n",
              "      <td>Task 790845</td>\n",
              "      <td>2021-06-24</td>\n",
              "      <td>MEDIUM</td>\n",
              "    </tr>\n",
              "    <tr>\n",
              "      <th>2</th>\n",
              "      <td>Task 802543</td>\n",
              "      <td>2021-07-15</td>\n",
              "      <td>HIGH</td>\n",
              "    </tr>\n",
              "    <tr>\n",
              "      <th>3</th>\n",
              "      <td>Task 1441779</td>\n",
              "      <td>2021-07-11</td>\n",
              "      <td>MEDIUM</td>\n",
              "    </tr>\n",
              "    <tr>\n",
              "      <th>4</th>\n",
              "      <td>Task 2067235</td>\n",
              "      <td>2021-07-19</td>\n",
              "      <td>HIGH</td>\n",
              "    </tr>\n",
              "  </tbody>\n",
              "</table>\n",
              "</div>"
            ],
            "text/plain": [
              "      task_name    due_date priority\n",
              "0   Task 945645  2021-07-21   MEDIUM\n",
              "1   Task 790845  2021-06-24   MEDIUM\n",
              "2   Task 802543  2021-07-15     HIGH\n",
              "3  Task 1441779  2021-07-11   MEDIUM\n",
              "4  Task 2067235  2021-07-19     HIGH"
            ]
          },
          "metadata": {
            "tags": []
          },
          "execution_count": 17
        }
      ]
    },
    {
      "cell_type": "code",
      "metadata": {
        "id": "s8FXpGcqzUCg",
        "colab": {
          "base_uri": "https://localhost:8080/",
          "height": 205
        },
        "outputId": "aabb9f02-bf10-4a36-fe57-07af42ad6410"
      },
      "source": [
        "test_data_set.head(5)"
      ],
      "execution_count": 18,
      "outputs": [
        {
          "output_type": "execute_result",
          "data": {
            "text/html": [
              "<div>\n",
              "<style scoped>\n",
              "    .dataframe tbody tr th:only-of-type {\n",
              "        vertical-align: middle;\n",
              "    }\n",
              "\n",
              "    .dataframe tbody tr th {\n",
              "        vertical-align: top;\n",
              "    }\n",
              "\n",
              "    .dataframe thead th {\n",
              "        text-align: right;\n",
              "    }\n",
              "</style>\n",
              "<table border=\"1\" class=\"dataframe\">\n",
              "  <thead>\n",
              "    <tr style=\"text-align: right;\">\n",
              "      <th></th>\n",
              "      <th>task_name</th>\n",
              "      <th>due_date</th>\n",
              "      <th>priority</th>\n",
              "    </tr>\n",
              "  </thead>\n",
              "  <tbody>\n",
              "    <tr>\n",
              "      <th>0</th>\n",
              "      <td>Task 1</td>\n",
              "      <td>2021-06-28</td>\n",
              "      <td>LOW</td>\n",
              "    </tr>\n",
              "    <tr>\n",
              "      <th>1</th>\n",
              "      <td>Task 2</td>\n",
              "      <td>2021-06-24</td>\n",
              "      <td>HIGH</td>\n",
              "    </tr>\n",
              "    <tr>\n",
              "      <th>2</th>\n",
              "      <td>Task 3</td>\n",
              "      <td>2021-07-06</td>\n",
              "      <td>MEDIUM</td>\n",
              "    </tr>\n",
              "    <tr>\n",
              "      <th>3</th>\n",
              "      <td>Task 4</td>\n",
              "      <td>2021-07-04</td>\n",
              "      <td>LOW</td>\n",
              "    </tr>\n",
              "    <tr>\n",
              "      <th>4</th>\n",
              "      <td>Task 5</td>\n",
              "      <td>2021-07-03</td>\n",
              "      <td>HIGH</td>\n",
              "    </tr>\n",
              "  </tbody>\n",
              "</table>\n",
              "</div>"
            ],
            "text/plain": [
              "  task_name    due_date priority\n",
              "0    Task 1  2021-06-28      LOW\n",
              "1    Task 2  2021-06-24     HIGH\n",
              "2    Task 3  2021-07-06   MEDIUM\n",
              "3    Task 4  2021-07-04      LOW\n",
              "4    Task 5  2021-07-03     HIGH"
            ]
          },
          "metadata": {
            "tags": []
          },
          "execution_count": 18
        }
      ]
    },
    {
      "cell_type": "markdown",
      "metadata": {
        "id": "dV30ih-zMjZh"
      },
      "source": [
        "## Optimize DataFrame Storage\n",
        "\n",
        "Compacting the data not only saves space, but also speeds up the processing. Two common opportunities are:\n",
        "\n",
        "- Converting timestamp strings or datetime to [datetime64](https://pandas.pydata.org/pandas-docs/stable/user_guide/timeseries.html)\n",
        "- Converting strings of enum types to [Categorical](https://pandas.pydata.org/pandas-docs/stable/user_guide/categorical.html) data type\n",
        "\n",
        "For fair comparision, compression test data to max extent possible."
      ]
    },
    {
      "cell_type": "code",
      "metadata": {
        "id": "pyIn47WiMrHK",
        "colab": {
          "base_uri": "https://localhost:8080/"
        },
        "outputId": "db592874-a065-4fca-8d28-f95ad47919a6"
      },
      "source": [
        "test_data_set.info()"
      ],
      "execution_count": 19,
      "outputs": [
        {
          "output_type": "stream",
          "text": [
            "<class 'pandas.core.frame.DataFrame'>\n",
            "RangeIndex: 2097153 entries, 0 to 2097152\n",
            "Data columns (total 3 columns):\n",
            " #   Column     Dtype \n",
            "---  ------     ----- \n",
            " 0   task_name  object\n",
            " 1   due_date   object\n",
            " 2   priority   object\n",
            "dtypes: object(3)\n",
            "memory usage: 48.0+ MB\n"
          ],
          "name": "stdout"
        }
      ]
    },
    {
      "cell_type": "code",
      "metadata": {
        "id": "8JnGXQNKaa8B"
      },
      "source": [
        "priority_dtype = pd.api.types.CategoricalDtype(\n",
        "  categories=['LOW', 'MEDIUM', 'HIGH'],\n",
        "  ordered=True\n",
        ")"
      ],
      "execution_count": 20,
      "outputs": []
    },
    {
      "cell_type": "code",
      "metadata": {
        "id": "08OvgJZL-s8s",
        "colab": {
          "base_uri": "https://localhost:8080/"
        },
        "outputId": "89bde848-e7f9-459b-e141-9271688fb141"
      },
      "source": [
        "priority_map = dict(enumerate(pd.Series(['']).astype(priority_dtype).cat.categories))\n",
        "priority_map"
      ],
      "execution_count": 21,
      "outputs": [
        {
          "output_type": "execute_result",
          "data": {
            "text/plain": [
              "{0: 'LOW', 1: 'MEDIUM', 2: 'HIGH'}"
            ]
          },
          "metadata": {
            "tags": []
          },
          "execution_count": 21
        }
      ]
    },
    {
      "cell_type": "code",
      "metadata": {
        "id": "Pv5F5MnHiqrA",
        "colab": {
          "base_uri": "https://localhost:8080/"
        },
        "outputId": "e49dc52f-1c75-456b-9244-3eac9f203e91"
      },
      "source": [
        "test_data_set['priority'] = test_data_set['priority'].astype(priority_dtype)\n",
        "test_data_set.info()"
      ],
      "execution_count": 22,
      "outputs": [
        {
          "output_type": "stream",
          "text": [
            "<class 'pandas.core.frame.DataFrame'>\n",
            "RangeIndex: 2097153 entries, 0 to 2097152\n",
            "Data columns (total 3 columns):\n",
            " #   Column     Dtype   \n",
            "---  ------     -----   \n",
            " 0   task_name  object  \n",
            " 1   due_date   object  \n",
            " 2   priority   category\n",
            "dtypes: category(1), object(2)\n",
            "memory usage: 34.0+ MB\n"
          ],
          "name": "stdout"
        }
      ]
    },
    {
      "cell_type": "code",
      "metadata": {
        "id": "AYjdRWmYoGSx",
        "colab": {
          "base_uri": "https://localhost:8080/",
          "height": 35
        },
        "outputId": "8600b20d-7447-4ac7-c5ff-8a8caddfdc7a"
      },
      "source": [
        "test_data_set['priority'].loc[0]"
      ],
      "execution_count": 23,
      "outputs": [
        {
          "output_type": "execute_result",
          "data": {
            "application/vnd.google.colaboratory.intrinsic+json": {
              "type": "string"
            },
            "text/plain": [
              "'LOW'"
            ]
          },
          "metadata": {
            "tags": []
          },
          "execution_count": 23
        }
      ]
    },
    {
      "cell_type": "markdown",
      "metadata": {
        "id": "6aUQ7kNNniA3"
      },
      "source": [
        "Using category for priority reduced the memory usage by ~30%."
      ]
    },
    {
      "cell_type": "markdown",
      "metadata": {
        "id": "mSUlG6gOMvu7"
      },
      "source": [
        "## Optimize DataFrame Processing Time"
      ]
    },
    {
      "cell_type": "markdown",
      "metadata": {
        "id": "kQ0d8vSlHGAW"
      },
      "source": [
        "### The Eisenhower Method\n",
        "\n",
        "Decide about action needed using [Eisenhower method](https://en.wikipedia.org/wiki/Time_management#The_Eisenhower_Method):\n",
        "\n",
        "| Important | Urgent    | Binary | Int | Action   |\n",
        "| --------- | --------- | :----: | :-: | -------- |\n",
        "| True (1)  | True (1)  |   11   |  3  | DO       |\n",
        "| True (1)  | False (0) |   10   |  2  | SCHEDULE |\n",
        "| False (0) | True (1)  |   01   |  1  | DELEGATE |\n",
        "| False (0) | False (0) |   00   |  0  | DELETE   |"
      ]
    },
    {
      "cell_type": "code",
      "metadata": {
        "id": "Y9HmUqc4HYmN"
      },
      "source": [
        "action_dtype = pd.api.types.CategoricalDtype(\n",
        "  categories=['DELETE', 'DELEGATE', 'SCHEDULE', 'DO'],\n",
        "  ordered=True\n",
        ")"
      ],
      "execution_count": 24,
      "outputs": []
    },
    {
      "cell_type": "code",
      "metadata": {
        "id": "-3yHfVqRHZGm",
        "colab": {
          "base_uri": "https://localhost:8080/"
        },
        "outputId": "3f7d7ddf-4e05-46ff-f342-09516152a7e8"
      },
      "source": [
        "action_map = dict(enumerate(pd.Series(['']).astype(action_dtype).cat.categories))\n",
        "action_map"
      ],
      "execution_count": 25,
      "outputs": [
        {
          "output_type": "execute_result",
          "data": {
            "text/plain": [
              "{0: 'DELETE', 1: 'DELEGATE', 2: 'SCHEDULE', 3: 'DO'}"
            ]
          },
          "metadata": {
            "tags": []
          },
          "execution_count": 25
        }
      ]
    },
    {
      "cell_type": "code",
      "metadata": {
        "id": "J-ckAXUV0OWB"
      },
      "source": [
        "def eisenhower_action(is_important: bool, is_urgent: bool) -> int:\n",
        "  return 2 * is_important + is_urgent\n",
        "\n",
        "def eisenhower_action_str(is_important: bool, is_urgent: bool) -> str:\n",
        "  return action_map[eisenhower_action(is_important, is_urgent)]"
      ],
      "execution_count": 26,
      "outputs": []
    },
    {
      "cell_type": "code",
      "metadata": {
        "id": "BzVGTCZ4XyUw"
      },
      "source": [
        "# Let's say anything due by tomorrow is Urgent\n",
        "cutoff_date = datetime.date.today() + datetime.timedelta(days=2)"
      ],
      "execution_count": 27,
      "outputs": []
    },
    {
      "cell_type": "code",
      "metadata": {
        "id": "ZrVtS6eX4YdJ",
        "colab": {
          "base_uri": "https://localhost:8080/",
          "height": 35
        },
        "outputId": "52d15b4e-83d6-4c1f-897f-6b5ebf67ed86"
      },
      "source": [
        "# Test compute_eisenhower_action\n",
        "\n",
        "eisenhower_action_str(\n",
        "  test_data_set.loc[0].priority == 'HIGH',\n",
        "  test_data_set.loc[0].due_date <= cutoff_date\n",
        ")"
      ],
      "execution_count": 28,
      "outputs": [
        {
          "output_type": "execute_result",
          "data": {
            "application/vnd.google.colaboratory.intrinsic+json": {
              "type": "string"
            },
            "text/plain": [
              "'DELETE'"
            ]
          },
          "metadata": {
            "tags": []
          },
          "execution_count": 28
        }
      ]
    },
    {
      "cell_type": "code",
      "metadata": {
        "id": "Wwy6iBF3Ui8v"
      },
      "source": [
        "# Work with a smaller data set to try each alternative\n",
        "data_sample = test_data_sample(100000)"
      ],
      "execution_count": 29,
      "outputs": []
    },
    {
      "cell_type": "markdown",
      "metadata": {
        "id": "Z30TqS6PQ07E"
      },
      "source": [
        "### Method 1: Loop Over All Rows of a DataFrame"
      ]
    },
    {
      "cell_type": "code",
      "metadata": {
        "id": "JsxOxGu2RQgX"
      },
      "source": [
        "def loop_impl(df):\n",
        "  cutoff_date = datetime.date.today() + datetime.timedelta(days=2)\n",
        "\n",
        "  result = []\n",
        "  for i in range(len(df)):\n",
        "    row = df.iloc[i]\n",
        "    result.append(\n",
        "      eisenhower_action(row.priority == 'HIGH', row.due_date <= cutoff_date)\n",
        "    )\n",
        "\n",
        "  return pd.Series(result)"
      ],
      "execution_count": 30,
      "outputs": []
    },
    {
      "cell_type": "code",
      "metadata": {
        "id": "c9k4BSpRTlVu",
        "colab": {
          "base_uri": "https://localhost:8080/"
        },
        "outputId": "e83e1a82-9c2c-4099-e2ff-45b449c4e01a"
      },
      "source": [
        "%timeit data_sample['action_loop'] = loop_impl(data_sample)"
      ],
      "execution_count": 31,
      "outputs": [
        {
          "output_type": "stream",
          "text": [
            "1 loop, best of 5: 56.6 s per loop\n"
          ],
          "name": "stdout"
        }
      ]
    },
    {
      "cell_type": "code",
      "metadata": {
        "id": "Gfaj7lxELRNf"
      },
      "source": [
        "%lprun -f loop_impl  loop_impl(test_data_sample(100))"
      ],
      "execution_count": 32,
      "outputs": []
    },
    {
      "cell_type": "markdown",
      "metadata": {
        "id": "CtX8RTnMM7uU"
      },
      "source": [
        "### Method 2: Iterate over rows with `iterrows` Function"
      ]
    },
    {
      "cell_type": "code",
      "metadata": {
        "id": "hBXHW8cGRMqV"
      },
      "source": [
        "def iterrows_impl(df):\n",
        "  cutoff_date = datetime.date.today() + datetime.timedelta(days=2)\n",
        "  return pd.Series(\n",
        "    eisenhower_action(row.priority == 'HIGH', row.due_date <= cutoff_date)\n",
        "    for index, row in df.iterrows()\n",
        "  )"
      ],
      "execution_count": 33,
      "outputs": []
    },
    {
      "cell_type": "code",
      "metadata": {
        "id": "08rVStuRNCmh",
        "colab": {
          "base_uri": "https://localhost:8080/"
        },
        "outputId": "e0400308-54c0-4c07-d12a-3973ae3eff43"
      },
      "source": [
        "%timeit data_sample['action_iterrow'] = iterrows_impl(data_sample)"
      ],
      "execution_count": 34,
      "outputs": [
        {
          "output_type": "stream",
          "text": [
            "1 loop, best of 5: 9.04 s per loop\n"
          ],
          "name": "stdout"
        }
      ]
    },
    {
      "cell_type": "markdown",
      "metadata": {
        "id": "WbQdCzeyaFGu"
      },
      "source": [
        "### Method 3: Iterate over rows with `itertuples` Function"
      ]
    },
    {
      "cell_type": "code",
      "metadata": {
        "id": "zJTC1fd_aZsn"
      },
      "source": [
        "def itertuples_impl(df):\n",
        "  cutoff_date = datetime.date.today() + datetime.timedelta(days=2)\n",
        "  return pd.Series(\n",
        "    eisenhower_action(row.priority == 'HIGH', row.due_date <= cutoff_date)\n",
        "    for row in df.itertuples()\n",
        "  )"
      ],
      "execution_count": 35,
      "outputs": []
    },
    {
      "cell_type": "code",
      "metadata": {
        "id": "H6O01yB1cSc8",
        "colab": {
          "base_uri": "https://localhost:8080/"
        },
        "outputId": "68f9a7c0-966c-44f4-df39-2dcfc8d5b2ff"
      },
      "source": [
        "%timeit data_sample['action_itertuples'] = itertuples_impl(data_sample)"
      ],
      "execution_count": 36,
      "outputs": [
        {
          "output_type": "stream",
          "text": [
            "1 loop, best of 5: 211 ms per loop\n"
          ],
          "name": "stdout"
        }
      ]
    },
    {
      "cell_type": "markdown",
      "metadata": {
        "id": "VuIUVfqyNEVz"
      },
      "source": [
        "### Method 4: Pandas `apply` Function to Every Row"
      ]
    },
    {
      "cell_type": "code",
      "metadata": {
        "id": "tUYovpRjXZWC"
      },
      "source": [
        "def apply_impl(df):\n",
        "  cutoff_date = datetime.date.today() + datetime.timedelta(days=2)\n",
        "  return df.apply(\n",
        "    lambda row: eisenhower_action(row.priority == 'HIGH', row.due_date <= cutoff_date),\n",
        "    axis=1\n",
        "  )"
      ],
      "execution_count": 37,
      "outputs": []
    },
    {
      "cell_type": "code",
      "metadata": {
        "id": "HKhDaS_3ZZdN",
        "colab": {
          "base_uri": "https://localhost:8080/"
        },
        "outputId": "18d59ca8-c6a8-45b1-fc6d-d181c9d8eaf6"
      },
      "source": [
        "%timeit data_sample['action_impl'] = apply_impl(data_sample)"
      ],
      "execution_count": 38,
      "outputs": [
        {
          "output_type": "stream",
          "text": [
            "1 loop, best of 5: 1.85 s per loop\n"
          ],
          "name": "stdout"
        }
      ]
    },
    {
      "cell_type": "markdown",
      "metadata": {
        "id": "XgfEOC0GhMML"
      },
      "source": [
        "### Method 5: List Comprehension"
      ]
    },
    {
      "cell_type": "code",
      "metadata": {
        "id": "EW0UvK5UsEJ2"
      },
      "source": [
        "def list_impl(df):\n",
        "  cutoff_date = datetime.date.today() + datetime.timedelta(days=2)\n",
        "  return pd.Series([\n",
        "    eisenhower_action(priority == 'HIGH', due_date <= cutoff_date)\n",
        "    for (priority, due_date) in zip(df['priority'], df['due_date'])\n",
        "  ])"
      ],
      "execution_count": 39,
      "outputs": []
    },
    {
      "cell_type": "code",
      "metadata": {
        "id": "BEAqo7hxxZ21",
        "colab": {
          "base_uri": "https://localhost:8080/"
        },
        "outputId": "ec558c67-159f-42c5-a110-55dbe16dc80d"
      },
      "source": [
        "%timeit data_sample['action_list'] = list_impl(data_sample)"
      ],
      "execution_count": 40,
      "outputs": [
        {
          "output_type": "stream",
          "text": [
            "10 loops, best of 5: 78.4 ms per loop\n"
          ],
          "name": "stdout"
        }
      ]
    },
    {
      "cell_type": "markdown",
      "metadata": {
        "id": "vHJ953jYmg5h"
      },
      "source": [
        "### Method 6: Python `map` Function"
      ]
    },
    {
      "cell_type": "code",
      "metadata": {
        "id": "P-Dt6Bramwr4"
      },
      "source": [
        "def map_impl(df):\n",
        "  cutoff_date = datetime.date.today() + datetime.timedelta(days=2)\n",
        "  return pd.Series(map(eisenhower_action, df['priority'] == 'HIGH', df['due_date'] <= cutoff_date))"
      ],
      "execution_count": 41,
      "outputs": []
    },
    {
      "cell_type": "code",
      "metadata": {
        "colab": {
          "base_uri": "https://localhost:8080/"
        },
        "id": "LbJU71OCnVDY",
        "outputId": "b1f47c5e-265a-4a6d-de3f-6bb529bffe82"
      },
      "source": [
        "%timeit data_sample['action_map'] = map_impl(data_sample)"
      ],
      "execution_count": 42,
      "outputs": [
        {
          "output_type": "stream",
          "text": [
            "10 loops, best of 5: 71.5 ms per loop\n"
          ],
          "name": "stdout"
        }
      ]
    },
    {
      "cell_type": "markdown",
      "metadata": {
        "id": "kPdjc4cery0V"
      },
      "source": [
        "### Method 7: *Vectorization*"
      ]
    },
    {
      "cell_type": "code",
      "metadata": {
        "id": "9blk7rtir4IM"
      },
      "source": [
        "def vec_impl(df):\n",
        "  cutoff_date = datetime.date.today() + datetime.timedelta(days=2)\n",
        "  return (2*(df['priority'] == 'HIGH') + (df['due_date'] <= cutoff_date))"
      ],
      "execution_count": 43,
      "outputs": []
    },
    {
      "cell_type": "code",
      "metadata": {
        "id": "hFhrzXfB5qxj",
        "colab": {
          "base_uri": "https://localhost:8080/"
        },
        "outputId": "5b8292c5-52e8-435b-ef7d-6029adea36da"
      },
      "source": [
        "%timeit data_sample['action_vec'] = vec_impl(data_sample)"
      ],
      "execution_count": 44,
      "outputs": [
        {
          "output_type": "stream",
          "text": [
            "10 loops, best of 5: 20 ms per loop\n"
          ],
          "name": "stdout"
        }
      ]
    },
    {
      "cell_type": "markdown",
      "metadata": {
        "id": "B5pnlol0XcBS"
      },
      "source": [
        "### Method 8: NumPy `vectorize` function\n",
        "\n",
        "Ref.: [From Python to NumPy](https://www.labri.fr/perso/nrougier/from-python-to-numpy/)"
      ]
    },
    {
      "cell_type": "code",
      "metadata": {
        "id": "_cYUZ2Z-iutb"
      },
      "source": [
        "def np_vec_impl(df):\n",
        "  cutoff_date = datetime.date.today() + datetime.timedelta(days=2)\n",
        "  return np.vectorize(eisenhower_action)(df['priority'] == 'HIGH', df['due_date'] <= cutoff_date)"
      ],
      "execution_count": 45,
      "outputs": []
    },
    {
      "cell_type": "code",
      "metadata": {
        "id": "l3mno_5Rjv1C",
        "colab": {
          "base_uri": "https://localhost:8080/"
        },
        "outputId": "a3d02102-7710-4e2b-c788-171f88e8772a"
      },
      "source": [
        "%timeit data_sample['action_np_vec'] = np_vec_impl(data_sample)"
      ],
      "execution_count": 46,
      "outputs": [
        {
          "output_type": "stream",
          "text": [
            "10 loops, best of 5: 35.7 ms per loop\n"
          ],
          "name": "stdout"
        }
      ]
    },
    {
      "cell_type": "markdown",
      "metadata": {
        "id": "k0a_Hr0n0Gqk"
      },
      "source": [
        "### Method 9: Numba Decorators\n",
        "\n",
        "[Numba](https://numba.pydata.org) is commonly used to speed up applying mathmatical functions."
      ]
    },
    {
      "cell_type": "code",
      "metadata": {
        "id": "04aAxGcG1Rfb"
      },
      "source": [
        "import numba\n",
        "\n",
        "@numba.vectorize\n",
        "def numba_eisenhower_action(is_important: bool, is_urgent: bool) -> int:\n",
        "  return 2 * is_important + is_urgent\n",
        "\n",
        "def numba_impl(df):\n",
        "  cutoff_date = datetime.date.today() + datetime.timedelta(days=2)\n",
        "  return numba_eisenhower_action(\n",
        "    (df['priority'] == 'HIGH').to_numpy(),\n",
        "    (df['due_date'] <= cutoff_date).to_numpy()\n",
        "  )"
      ],
      "execution_count": 47,
      "outputs": []
    },
    {
      "cell_type": "code",
      "metadata": {
        "id": "rJgIE2YX319K",
        "colab": {
          "base_uri": "https://localhost:8080/"
        },
        "outputId": "9f487539-b4b0-4ea5-ead9-944231fa4bf7"
      },
      "source": [
        "%timeit data_sample['action_numba'] = numba_impl(data_sample)"
      ],
      "execution_count": 48,
      "outputs": [
        {
          "output_type": "stream",
          "text": [
            "The slowest run took 11.66 times longer than the fastest. This could mean that an intermediate result is being cached.\n",
            "1 loop, best of 5: 18.9 ms per loop\n"
          ],
          "name": "stdout"
        }
      ]
    },
    {
      "cell_type": "markdown",
      "metadata": {
        "id": "trRh9Sbc6Mfb"
      },
      "source": [
        "### Method 10: Multiprocessing with `pandarallel` "
      ]
    },
    {
      "cell_type": "code",
      "metadata": {
        "id": "cVS686u86T4H",
        "colab": {
          "base_uri": "https://localhost:8080/"
        },
        "outputId": "a2f5ebd6-0cef-4e3e-a7a4-e32688019427"
      },
      "source": [
        "from pandarallel import pandarallel\n",
        "\n",
        "pandarallel.initialize()\n",
        "\n",
        "def pandarallel_impl(df):\n",
        "  cutoff_date = datetime.date.today() + datetime.timedelta(days=2)\n",
        "  return df.parallel_apply(\n",
        "    lambda row: eisenhower_action(row.priority == 'HIGH', row.due_date <= cutoff_date),\n",
        "    axis=1\n",
        "  )"
      ],
      "execution_count": 49,
      "outputs": [
        {
          "output_type": "stream",
          "text": [
            "INFO: Pandarallel will run on 2 workers.\n",
            "INFO: Pandarallel will use Memory file system to transfer data between the main process and workers.\n"
          ],
          "name": "stdout"
        }
      ]
    },
    {
      "cell_type": "code",
      "metadata": {
        "id": "qD9isuTE8xvT",
        "colab": {
          "base_uri": "https://localhost:8080/"
        },
        "outputId": "d58add44-09c6-470e-9e03-b6e87772f87c"
      },
      "source": [
        "%timeit data_sample['action_pandarallel'] = pandarallel_impl(data_sample)"
      ],
      "execution_count": 50,
      "outputs": [
        {
          "output_type": "stream",
          "text": [
            "1 loop, best of 5: 2.27 s per loop\n"
          ],
          "name": "stdout"
        }
      ]
    },
    {
      "cell_type": "markdown",
      "metadata": {
        "id": "Z5BSckOfA5Fe"
      },
      "source": [
        "### Method 11: Parallelize with Dask\n",
        "\n",
        "[Dask](https://dask.org) is a parallel computing library that supports scaling up NumPy, Pandas, Scikit-learn and many other Python libraries.\n"
      ]
    },
    {
      "cell_type": "code",
      "metadata": {
        "id": "abwkBjCDB0AH"
      },
      "source": [
        "import dask.dataframe as dd\n",
        "\n",
        "def dask_impl(df):\n",
        "  cutoff_date = datetime.date.today() + datetime.timedelta(days=2)\n",
        "  return dd.from_pandas(df, npartitions=CPU_COUNT).apply(\n",
        "    lambda row: eisenhower_action(row.priority == 'HIGH', row.due_date <= cutoff_date),\n",
        "    axis=1,\n",
        "    meta=(int)\n",
        "  ).compute()"
      ],
      "execution_count": 51,
      "outputs": []
    },
    {
      "cell_type": "code",
      "metadata": {
        "id": "1R656fvAD6F3",
        "colab": {
          "base_uri": "https://localhost:8080/"
        },
        "outputId": "8fe86284-4c90-4a22-a1e6-8d14902f2a17"
      },
      "source": [
        "%timeit data_sample['action_dask'] = dask_impl(data_sample)"
      ],
      "execution_count": 52,
      "outputs": [
        {
          "output_type": "stream",
          "text": [
            "1 loop, best of 5: 2.13 s per loop\n"
          ],
          "name": "stdout"
        }
      ]
    },
    {
      "cell_type": "markdown",
      "metadata": {
        "id": "MToH2DqoEoWW"
      },
      "source": [
        "### Method 12: Opportunistic Parallelization with Swifter\n",
        "\n",
        "[Swifter](https://github.com/jmcarpenter2/swifter) automatically decides which is faster: to use dask parallel processing or a simple pandas apply."
      ]
    },
    {
      "cell_type": "code",
      "metadata": {
        "id": "8dF8rOshHMSa"
      },
      "source": [
        "import swifter\n",
        "\n",
        "def swifter_impl(df):\n",
        "  cutoff_date = datetime.date.today() + datetime.timedelta(days=2)\n",
        "  return df.swifter.apply(\n",
        "    lambda row: eisenhower_action(row.priority == 'HIGH', row.due_date <= cutoff_date),\n",
        "    axis=1\n",
        "  )"
      ],
      "execution_count": 53,
      "outputs": []
    },
    {
      "cell_type": "code",
      "metadata": {
        "id": "SbzxhRChHp6B",
        "colab": {
          "base_uri": "https://localhost:8080/"
        },
        "outputId": "bc0f39e5-1616-4e28-8c37-cd5fdd83ae6f"
      },
      "source": [
        "%timeit data_sample['action_swifter'] = swifter_impl(data_sample)"
      ],
      "execution_count": 54,
      "outputs": [
        {
          "output_type": "stream",
          "text": [
            "10 loops, best of 5: 22.9 ms per loop\n"
          ],
          "name": "stdout"
        }
      ]
    },
    {
      "cell_type": "markdown",
      "metadata": {
        "id": "_TZMFYH1MNCL"
      },
      "source": [
        "### Test Correctness"
      ]
    },
    {
      "cell_type": "code",
      "metadata": {
        "id": "5XMIXhq-MRqZ",
        "colab": {
          "base_uri": "https://localhost:8080/",
          "height": 69
        },
        "outputId": "3503bb7c-8400-4dee-a23c-dacd812e4bb4"
      },
      "source": [
        "data_sample[data_sample['action_loop'] != data_sample['action_iterrow']]"
      ],
      "execution_count": 55,
      "outputs": [
        {
          "output_type": "execute_result",
          "data": {
            "text/html": [
              "<div>\n",
              "<style scoped>\n",
              "    .dataframe tbody tr th:only-of-type {\n",
              "        vertical-align: middle;\n",
              "    }\n",
              "\n",
              "    .dataframe tbody tr th {\n",
              "        vertical-align: top;\n",
              "    }\n",
              "\n",
              "    .dataframe thead th {\n",
              "        text-align: right;\n",
              "    }\n",
              "</style>\n",
              "<table border=\"1\" class=\"dataframe\">\n",
              "  <thead>\n",
              "    <tr style=\"text-align: right;\">\n",
              "      <th></th>\n",
              "      <th>task_name</th>\n",
              "      <th>due_date</th>\n",
              "      <th>priority</th>\n",
              "      <th>action_loop</th>\n",
              "      <th>action_iterrow</th>\n",
              "      <th>action_itertuples</th>\n",
              "      <th>action_impl</th>\n",
              "      <th>action_list</th>\n",
              "      <th>action_map</th>\n",
              "      <th>action_vec</th>\n",
              "      <th>action_np_vec</th>\n",
              "      <th>action_numba</th>\n",
              "      <th>action_pandarallel</th>\n",
              "      <th>action_dask</th>\n",
              "      <th>action_swifter</th>\n",
              "    </tr>\n",
              "  </thead>\n",
              "  <tbody>\n",
              "  </tbody>\n",
              "</table>\n",
              "</div>"
            ],
            "text/plain": [
              "Empty DataFrame\n",
              "Columns: [task_name, due_date, priority, action_loop, action_iterrow, action_itertuples, action_impl, action_list, action_map, action_vec, action_np_vec, action_numba, action_pandarallel, action_dask, action_swifter]\n",
              "Index: []"
            ]
          },
          "metadata": {
            "tags": []
          },
          "execution_count": 55
        }
      ]
    },
    {
      "cell_type": "code",
      "metadata": {
        "id": "meji8zshSJQ9",
        "colab": {
          "base_uri": "https://localhost:8080/",
          "height": 69
        },
        "outputId": "b1a3d347-3179-4e1f-d8c5-c7986c9cdff2"
      },
      "source": [
        "data_sample[data_sample['action_loop'] != data_sample['action_itertuples']]"
      ],
      "execution_count": 56,
      "outputs": [
        {
          "output_type": "execute_result",
          "data": {
            "text/html": [
              "<div>\n",
              "<style scoped>\n",
              "    .dataframe tbody tr th:only-of-type {\n",
              "        vertical-align: middle;\n",
              "    }\n",
              "\n",
              "    .dataframe tbody tr th {\n",
              "        vertical-align: top;\n",
              "    }\n",
              "\n",
              "    .dataframe thead th {\n",
              "        text-align: right;\n",
              "    }\n",
              "</style>\n",
              "<table border=\"1\" class=\"dataframe\">\n",
              "  <thead>\n",
              "    <tr style=\"text-align: right;\">\n",
              "      <th></th>\n",
              "      <th>task_name</th>\n",
              "      <th>due_date</th>\n",
              "      <th>priority</th>\n",
              "      <th>action_loop</th>\n",
              "      <th>action_iterrow</th>\n",
              "      <th>action_itertuples</th>\n",
              "      <th>action_impl</th>\n",
              "      <th>action_list</th>\n",
              "      <th>action_map</th>\n",
              "      <th>action_vec</th>\n",
              "      <th>action_np_vec</th>\n",
              "      <th>action_numba</th>\n",
              "      <th>action_pandarallel</th>\n",
              "      <th>action_dask</th>\n",
              "      <th>action_swifter</th>\n",
              "    </tr>\n",
              "  </thead>\n",
              "  <tbody>\n",
              "  </tbody>\n",
              "</table>\n",
              "</div>"
            ],
            "text/plain": [
              "Empty DataFrame\n",
              "Columns: [task_name, due_date, priority, action_loop, action_iterrow, action_itertuples, action_impl, action_list, action_map, action_vec, action_np_vec, action_numba, action_pandarallel, action_dask, action_swifter]\n",
              "Index: []"
            ]
          },
          "metadata": {
            "tags": []
          },
          "execution_count": 56
        }
      ]
    },
    {
      "cell_type": "code",
      "metadata": {
        "id": "NNcGmoNBSNrk",
        "colab": {
          "base_uri": "https://localhost:8080/",
          "height": 69
        },
        "outputId": "60f42788-318b-4845-addc-71eb4cfa0280"
      },
      "source": [
        "data_sample[data_sample['action_loop'] != data_sample['action_impl']]"
      ],
      "execution_count": 57,
      "outputs": [
        {
          "output_type": "execute_result",
          "data": {
            "text/html": [
              "<div>\n",
              "<style scoped>\n",
              "    .dataframe tbody tr th:only-of-type {\n",
              "        vertical-align: middle;\n",
              "    }\n",
              "\n",
              "    .dataframe tbody tr th {\n",
              "        vertical-align: top;\n",
              "    }\n",
              "\n",
              "    .dataframe thead th {\n",
              "        text-align: right;\n",
              "    }\n",
              "</style>\n",
              "<table border=\"1\" class=\"dataframe\">\n",
              "  <thead>\n",
              "    <tr style=\"text-align: right;\">\n",
              "      <th></th>\n",
              "      <th>task_name</th>\n",
              "      <th>due_date</th>\n",
              "      <th>priority</th>\n",
              "      <th>action_loop</th>\n",
              "      <th>action_iterrow</th>\n",
              "      <th>action_itertuples</th>\n",
              "      <th>action_impl</th>\n",
              "      <th>action_list</th>\n",
              "      <th>action_map</th>\n",
              "      <th>action_vec</th>\n",
              "      <th>action_np_vec</th>\n",
              "      <th>action_numba</th>\n",
              "      <th>action_pandarallel</th>\n",
              "      <th>action_dask</th>\n",
              "      <th>action_swifter</th>\n",
              "    </tr>\n",
              "  </thead>\n",
              "  <tbody>\n",
              "  </tbody>\n",
              "</table>\n",
              "</div>"
            ],
            "text/plain": [
              "Empty DataFrame\n",
              "Columns: [task_name, due_date, priority, action_loop, action_iterrow, action_itertuples, action_impl, action_list, action_map, action_vec, action_np_vec, action_numba, action_pandarallel, action_dask, action_swifter]\n",
              "Index: []"
            ]
          },
          "metadata": {
            "tags": []
          },
          "execution_count": 57
        }
      ]
    },
    {
      "cell_type": "code",
      "metadata": {
        "id": "K_R1niJ1SQau",
        "colab": {
          "base_uri": "https://localhost:8080/",
          "height": 69
        },
        "outputId": "c55a8381-2603-43f7-b031-75372ef3e0fd"
      },
      "source": [
        "data_sample[data_sample['action_loop'] != data_sample['action_list']]"
      ],
      "execution_count": 58,
      "outputs": [
        {
          "output_type": "execute_result",
          "data": {
            "text/html": [
              "<div>\n",
              "<style scoped>\n",
              "    .dataframe tbody tr th:only-of-type {\n",
              "        vertical-align: middle;\n",
              "    }\n",
              "\n",
              "    .dataframe tbody tr th {\n",
              "        vertical-align: top;\n",
              "    }\n",
              "\n",
              "    .dataframe thead th {\n",
              "        text-align: right;\n",
              "    }\n",
              "</style>\n",
              "<table border=\"1\" class=\"dataframe\">\n",
              "  <thead>\n",
              "    <tr style=\"text-align: right;\">\n",
              "      <th></th>\n",
              "      <th>task_name</th>\n",
              "      <th>due_date</th>\n",
              "      <th>priority</th>\n",
              "      <th>action_loop</th>\n",
              "      <th>action_iterrow</th>\n",
              "      <th>action_itertuples</th>\n",
              "      <th>action_impl</th>\n",
              "      <th>action_list</th>\n",
              "      <th>action_map</th>\n",
              "      <th>action_vec</th>\n",
              "      <th>action_np_vec</th>\n",
              "      <th>action_numba</th>\n",
              "      <th>action_pandarallel</th>\n",
              "      <th>action_dask</th>\n",
              "      <th>action_swifter</th>\n",
              "    </tr>\n",
              "  </thead>\n",
              "  <tbody>\n",
              "  </tbody>\n",
              "</table>\n",
              "</div>"
            ],
            "text/plain": [
              "Empty DataFrame\n",
              "Columns: [task_name, due_date, priority, action_loop, action_iterrow, action_itertuples, action_impl, action_list, action_map, action_vec, action_np_vec, action_numba, action_pandarallel, action_dask, action_swifter]\n",
              "Index: []"
            ]
          },
          "metadata": {
            "tags": []
          },
          "execution_count": 58
        }
      ]
    },
    {
      "cell_type": "code",
      "metadata": {
        "colab": {
          "base_uri": "https://localhost:8080/",
          "height": 69
        },
        "id": "7bdDUUDHspI6",
        "outputId": "ef64733c-cb78-4297-d8b0-2aa55567ab7f"
      },
      "source": [
        "data_sample[data_sample['action_loop'] != data_sample['action_map']]"
      ],
      "execution_count": 59,
      "outputs": [
        {
          "output_type": "execute_result",
          "data": {
            "text/html": [
              "<div>\n",
              "<style scoped>\n",
              "    .dataframe tbody tr th:only-of-type {\n",
              "        vertical-align: middle;\n",
              "    }\n",
              "\n",
              "    .dataframe tbody tr th {\n",
              "        vertical-align: top;\n",
              "    }\n",
              "\n",
              "    .dataframe thead th {\n",
              "        text-align: right;\n",
              "    }\n",
              "</style>\n",
              "<table border=\"1\" class=\"dataframe\">\n",
              "  <thead>\n",
              "    <tr style=\"text-align: right;\">\n",
              "      <th></th>\n",
              "      <th>task_name</th>\n",
              "      <th>due_date</th>\n",
              "      <th>priority</th>\n",
              "      <th>action_loop</th>\n",
              "      <th>action_iterrow</th>\n",
              "      <th>action_itertuples</th>\n",
              "      <th>action_impl</th>\n",
              "      <th>action_list</th>\n",
              "      <th>action_map</th>\n",
              "      <th>action_vec</th>\n",
              "      <th>action_np_vec</th>\n",
              "      <th>action_numba</th>\n",
              "      <th>action_pandarallel</th>\n",
              "      <th>action_dask</th>\n",
              "      <th>action_swifter</th>\n",
              "    </tr>\n",
              "  </thead>\n",
              "  <tbody>\n",
              "  </tbody>\n",
              "</table>\n",
              "</div>"
            ],
            "text/plain": [
              "Empty DataFrame\n",
              "Columns: [task_name, due_date, priority, action_loop, action_iterrow, action_itertuples, action_impl, action_list, action_map, action_vec, action_np_vec, action_numba, action_pandarallel, action_dask, action_swifter]\n",
              "Index: []"
            ]
          },
          "metadata": {
            "tags": []
          },
          "execution_count": 59
        }
      ]
    },
    {
      "cell_type": "code",
      "metadata": {
        "id": "VHC4BAjpSRGk",
        "colab": {
          "base_uri": "https://localhost:8080/",
          "height": 69
        },
        "outputId": "a5422908-aaf7-4d75-d865-df6decc5ee09"
      },
      "source": [
        "data_sample[data_sample['action_loop'] != data_sample['action_vec']]"
      ],
      "execution_count": 60,
      "outputs": [
        {
          "output_type": "execute_result",
          "data": {
            "text/html": [
              "<div>\n",
              "<style scoped>\n",
              "    .dataframe tbody tr th:only-of-type {\n",
              "        vertical-align: middle;\n",
              "    }\n",
              "\n",
              "    .dataframe tbody tr th {\n",
              "        vertical-align: top;\n",
              "    }\n",
              "\n",
              "    .dataframe thead th {\n",
              "        text-align: right;\n",
              "    }\n",
              "</style>\n",
              "<table border=\"1\" class=\"dataframe\">\n",
              "  <thead>\n",
              "    <tr style=\"text-align: right;\">\n",
              "      <th></th>\n",
              "      <th>task_name</th>\n",
              "      <th>due_date</th>\n",
              "      <th>priority</th>\n",
              "      <th>action_loop</th>\n",
              "      <th>action_iterrow</th>\n",
              "      <th>action_itertuples</th>\n",
              "      <th>action_impl</th>\n",
              "      <th>action_list</th>\n",
              "      <th>action_map</th>\n",
              "      <th>action_vec</th>\n",
              "      <th>action_np_vec</th>\n",
              "      <th>action_numba</th>\n",
              "      <th>action_pandarallel</th>\n",
              "      <th>action_dask</th>\n",
              "      <th>action_swifter</th>\n",
              "    </tr>\n",
              "  </thead>\n",
              "  <tbody>\n",
              "  </tbody>\n",
              "</table>\n",
              "</div>"
            ],
            "text/plain": [
              "Empty DataFrame\n",
              "Columns: [task_name, due_date, priority, action_loop, action_iterrow, action_itertuples, action_impl, action_list, action_map, action_vec, action_np_vec, action_numba, action_pandarallel, action_dask, action_swifter]\n",
              "Index: []"
            ]
          },
          "metadata": {
            "tags": []
          },
          "execution_count": 60
        }
      ]
    },
    {
      "cell_type": "code",
      "metadata": {
        "id": "EKszPx-Zj6av",
        "colab": {
          "base_uri": "https://localhost:8080/",
          "height": 69
        },
        "outputId": "a04f1b31-5f2e-47b4-b10d-21f190feaa2e"
      },
      "source": [
        "data_sample[data_sample['action_loop'] != data_sample['action_np_vec']]"
      ],
      "execution_count": 61,
      "outputs": [
        {
          "output_type": "execute_result",
          "data": {
            "text/html": [
              "<div>\n",
              "<style scoped>\n",
              "    .dataframe tbody tr th:only-of-type {\n",
              "        vertical-align: middle;\n",
              "    }\n",
              "\n",
              "    .dataframe tbody tr th {\n",
              "        vertical-align: top;\n",
              "    }\n",
              "\n",
              "    .dataframe thead th {\n",
              "        text-align: right;\n",
              "    }\n",
              "</style>\n",
              "<table border=\"1\" class=\"dataframe\">\n",
              "  <thead>\n",
              "    <tr style=\"text-align: right;\">\n",
              "      <th></th>\n",
              "      <th>task_name</th>\n",
              "      <th>due_date</th>\n",
              "      <th>priority</th>\n",
              "      <th>action_loop</th>\n",
              "      <th>action_iterrow</th>\n",
              "      <th>action_itertuples</th>\n",
              "      <th>action_impl</th>\n",
              "      <th>action_list</th>\n",
              "      <th>action_map</th>\n",
              "      <th>action_vec</th>\n",
              "      <th>action_np_vec</th>\n",
              "      <th>action_numba</th>\n",
              "      <th>action_pandarallel</th>\n",
              "      <th>action_dask</th>\n",
              "      <th>action_swifter</th>\n",
              "    </tr>\n",
              "  </thead>\n",
              "  <tbody>\n",
              "  </tbody>\n",
              "</table>\n",
              "</div>"
            ],
            "text/plain": [
              "Empty DataFrame\n",
              "Columns: [task_name, due_date, priority, action_loop, action_iterrow, action_itertuples, action_impl, action_list, action_map, action_vec, action_np_vec, action_numba, action_pandarallel, action_dask, action_swifter]\n",
              "Index: []"
            ]
          },
          "metadata": {
            "tags": []
          },
          "execution_count": 61
        }
      ]
    },
    {
      "cell_type": "code",
      "metadata": {
        "id": "YT5RUrQo6W46",
        "colab": {
          "base_uri": "https://localhost:8080/",
          "height": 69
        },
        "outputId": "f015314d-a289-4123-c3a8-284660e5ced1"
      },
      "source": [
        "data_sample[data_sample['action_loop'] != data_sample['action_numba']]"
      ],
      "execution_count": 62,
      "outputs": [
        {
          "output_type": "execute_result",
          "data": {
            "text/html": [
              "<div>\n",
              "<style scoped>\n",
              "    .dataframe tbody tr th:only-of-type {\n",
              "        vertical-align: middle;\n",
              "    }\n",
              "\n",
              "    .dataframe tbody tr th {\n",
              "        vertical-align: top;\n",
              "    }\n",
              "\n",
              "    .dataframe thead th {\n",
              "        text-align: right;\n",
              "    }\n",
              "</style>\n",
              "<table border=\"1\" class=\"dataframe\">\n",
              "  <thead>\n",
              "    <tr style=\"text-align: right;\">\n",
              "      <th></th>\n",
              "      <th>task_name</th>\n",
              "      <th>due_date</th>\n",
              "      <th>priority</th>\n",
              "      <th>action_loop</th>\n",
              "      <th>action_iterrow</th>\n",
              "      <th>action_itertuples</th>\n",
              "      <th>action_impl</th>\n",
              "      <th>action_list</th>\n",
              "      <th>action_map</th>\n",
              "      <th>action_vec</th>\n",
              "      <th>action_np_vec</th>\n",
              "      <th>action_numba</th>\n",
              "      <th>action_pandarallel</th>\n",
              "      <th>action_dask</th>\n",
              "      <th>action_swifter</th>\n",
              "    </tr>\n",
              "  </thead>\n",
              "  <tbody>\n",
              "  </tbody>\n",
              "</table>\n",
              "</div>"
            ],
            "text/plain": [
              "Empty DataFrame\n",
              "Columns: [task_name, due_date, priority, action_loop, action_iterrow, action_itertuples, action_impl, action_list, action_map, action_vec, action_np_vec, action_numba, action_pandarallel, action_dask, action_swifter]\n",
              "Index: []"
            ]
          },
          "metadata": {
            "tags": []
          },
          "execution_count": 62
        }
      ]
    },
    {
      "cell_type": "code",
      "metadata": {
        "id": "D6NhkfYw9ZI3",
        "colab": {
          "base_uri": "https://localhost:8080/",
          "height": 69
        },
        "outputId": "fd129f30-849c-4e7a-a2d6-3980cdcfdb8e"
      },
      "source": [
        "data_sample[data_sample['action_loop'] != data_sample['action_pandarallel']]"
      ],
      "execution_count": 63,
      "outputs": [
        {
          "output_type": "execute_result",
          "data": {
            "text/html": [
              "<div>\n",
              "<style scoped>\n",
              "    .dataframe tbody tr th:only-of-type {\n",
              "        vertical-align: middle;\n",
              "    }\n",
              "\n",
              "    .dataframe tbody tr th {\n",
              "        vertical-align: top;\n",
              "    }\n",
              "\n",
              "    .dataframe thead th {\n",
              "        text-align: right;\n",
              "    }\n",
              "</style>\n",
              "<table border=\"1\" class=\"dataframe\">\n",
              "  <thead>\n",
              "    <tr style=\"text-align: right;\">\n",
              "      <th></th>\n",
              "      <th>task_name</th>\n",
              "      <th>due_date</th>\n",
              "      <th>priority</th>\n",
              "      <th>action_loop</th>\n",
              "      <th>action_iterrow</th>\n",
              "      <th>action_itertuples</th>\n",
              "      <th>action_impl</th>\n",
              "      <th>action_list</th>\n",
              "      <th>action_map</th>\n",
              "      <th>action_vec</th>\n",
              "      <th>action_np_vec</th>\n",
              "      <th>action_numba</th>\n",
              "      <th>action_pandarallel</th>\n",
              "      <th>action_dask</th>\n",
              "      <th>action_swifter</th>\n",
              "    </tr>\n",
              "  </thead>\n",
              "  <tbody>\n",
              "  </tbody>\n",
              "</table>\n",
              "</div>"
            ],
            "text/plain": [
              "Empty DataFrame\n",
              "Columns: [task_name, due_date, priority, action_loop, action_iterrow, action_itertuples, action_impl, action_list, action_map, action_vec, action_np_vec, action_numba, action_pandarallel, action_dask, action_swifter]\n",
              "Index: []"
            ]
          },
          "metadata": {
            "tags": []
          },
          "execution_count": 63
        }
      ]
    },
    {
      "cell_type": "code",
      "metadata": {
        "id": "6pqJ7eWgEQ3M",
        "colab": {
          "base_uri": "https://localhost:8080/",
          "height": 69
        },
        "outputId": "16244ce7-f025-44ba-9b17-9b7c3374eba1"
      },
      "source": [
        "data_sample[data_sample['action_loop'] != data_sample['action_dask']]"
      ],
      "execution_count": 64,
      "outputs": [
        {
          "output_type": "execute_result",
          "data": {
            "text/html": [
              "<div>\n",
              "<style scoped>\n",
              "    .dataframe tbody tr th:only-of-type {\n",
              "        vertical-align: middle;\n",
              "    }\n",
              "\n",
              "    .dataframe tbody tr th {\n",
              "        vertical-align: top;\n",
              "    }\n",
              "\n",
              "    .dataframe thead th {\n",
              "        text-align: right;\n",
              "    }\n",
              "</style>\n",
              "<table border=\"1\" class=\"dataframe\">\n",
              "  <thead>\n",
              "    <tr style=\"text-align: right;\">\n",
              "      <th></th>\n",
              "      <th>task_name</th>\n",
              "      <th>due_date</th>\n",
              "      <th>priority</th>\n",
              "      <th>action_loop</th>\n",
              "      <th>action_iterrow</th>\n",
              "      <th>action_itertuples</th>\n",
              "      <th>action_impl</th>\n",
              "      <th>action_list</th>\n",
              "      <th>action_map</th>\n",
              "      <th>action_vec</th>\n",
              "      <th>action_np_vec</th>\n",
              "      <th>action_numba</th>\n",
              "      <th>action_pandarallel</th>\n",
              "      <th>action_dask</th>\n",
              "      <th>action_swifter</th>\n",
              "    </tr>\n",
              "  </thead>\n",
              "  <tbody>\n",
              "  </tbody>\n",
              "</table>\n",
              "</div>"
            ],
            "text/plain": [
              "Empty DataFrame\n",
              "Columns: [task_name, due_date, priority, action_loop, action_iterrow, action_itertuples, action_impl, action_list, action_map, action_vec, action_np_vec, action_numba, action_pandarallel, action_dask, action_swifter]\n",
              "Index: []"
            ]
          },
          "metadata": {
            "tags": []
          },
          "execution_count": 64
        }
      ]
    },
    {
      "cell_type": "code",
      "metadata": {
        "id": "4LIT_FZiIgu8",
        "colab": {
          "base_uri": "https://localhost:8080/",
          "height": 69
        },
        "outputId": "74a8e802-66e1-4523-b806-87c087c988ec"
      },
      "source": [
        "data_sample[data_sample['action_loop'] != data_sample['action_swifter']]"
      ],
      "execution_count": 65,
      "outputs": [
        {
          "output_type": "execute_result",
          "data": {
            "text/html": [
              "<div>\n",
              "<style scoped>\n",
              "    .dataframe tbody tr th:only-of-type {\n",
              "        vertical-align: middle;\n",
              "    }\n",
              "\n",
              "    .dataframe tbody tr th {\n",
              "        vertical-align: top;\n",
              "    }\n",
              "\n",
              "    .dataframe thead th {\n",
              "        text-align: right;\n",
              "    }\n",
              "</style>\n",
              "<table border=\"1\" class=\"dataframe\">\n",
              "  <thead>\n",
              "    <tr style=\"text-align: right;\">\n",
              "      <th></th>\n",
              "      <th>task_name</th>\n",
              "      <th>due_date</th>\n",
              "      <th>priority</th>\n",
              "      <th>action_loop</th>\n",
              "      <th>action_iterrow</th>\n",
              "      <th>action_itertuples</th>\n",
              "      <th>action_impl</th>\n",
              "      <th>action_list</th>\n",
              "      <th>action_map</th>\n",
              "      <th>action_vec</th>\n",
              "      <th>action_np_vec</th>\n",
              "      <th>action_numba</th>\n",
              "      <th>action_pandarallel</th>\n",
              "      <th>action_dask</th>\n",
              "      <th>action_swifter</th>\n",
              "    </tr>\n",
              "  </thead>\n",
              "  <tbody>\n",
              "  </tbody>\n",
              "</table>\n",
              "</div>"
            ],
            "text/plain": [
              "Empty DataFrame\n",
              "Columns: [task_name, due_date, priority, action_loop, action_iterrow, action_itertuples, action_impl, action_list, action_map, action_vec, action_np_vec, action_numba, action_pandarallel, action_dask, action_swifter]\n",
              "Index: []"
            ]
          },
          "metadata": {
            "tags": []
          },
          "execution_count": 65
        }
      ]
    },
    {
      "cell_type": "markdown",
      "metadata": {
        "id": "Lfcfp6pu-2J6"
      },
      "source": [
        "## Plot Performance Over DataFrame Size\n"
      ]
    },
    {
      "cell_type": "code",
      "metadata": {
        "id": "rgPwgV5w_CFx",
        "colab": {
          "base_uri": "https://localhost:8080/",
          "height": 361,
          "referenced_widgets": [
            "ac748687d2724fa1b5b27c24658a5bb3",
            "0f68385d8c224296820ce1df0bb7158a"
          ]
        },
        "outputId": "d0c5d3ca-99e4-4444-8843-d53e56dde184"
      },
      "source": [
        "kernels = [\n",
        "  loop_impl,\n",
        "  iterrows_impl,\n",
        "  itertuples_impl,\n",
        "  apply_impl,\n",
        "  list_impl,\n",
        "  map_impl,\n",
        "  vec_impl,\n",
        "  np_vec_impl,\n",
        "  numba_impl,\n",
        "  pandarallel_impl,\n",
        "  dask_impl,\n",
        "  swifter_impl\n",
        "]\n",
        "\n",
        "labels = [str(k.__name__)[:-5] for k in kernels]\n",
        "\n",
        "perfplot.show(\n",
        "  setup=lambda n: test_data_sample(n),\n",
        "  kernels=kernels,\n",
        "  labels=labels,\n",
        "  n_range=[2**k for k in range(K_MAX)],\n",
        "  xlabel='N',\n",
        "  logx=True,\n",
        "  logy=True,\n",
        "  #equality_check=None\n",
        ")"
      ],
      "execution_count": 66,
      "outputs": [
        {
          "output_type": "display_data",
          "data": {
            "application/vnd.jupyter.widget-view+json": {
              "model_id": "ac748687d2724fa1b5b27c24658a5bb3",
              "version_minor": 0,
              "version_major": 2
            },
            "text/plain": [
              "Output()"
            ]
          },
          "metadata": {
            "tags": []
          }
        },
        {
          "output_type": "display_data",
          "data": {
            "image/png": "[encoded data removed]",
            "text/plain": [
              "<Figure size 432x288 with 1 Axes>"
            ]
          },
          "metadata": {
            "tags": [],
            "needs_background": "dark"
          }
        }
      ]
    },
    {
      "cell_type": "markdown",
      "metadata": {
        "id": "tq3Ki7Q0--LT"
      },
      "source": [
        "## Summary"
      ]
    },
    {
      "cell_type": "markdown",
      "metadata": {
        "id": "3yYtmsUmWiEu"
      },
      "source": [
        "Performance Comparision:\n",
        "\n",
        "| Method             | CPU Time (s) |\n",
        "| ------------------ | -----------: |\n",
        "| Python Loop        |    56.600000 |\n",
        "| Pandas iterrow()   |     9.040000 |\n",
        "| Pandas apply()     |     1.850000 |\n",
        "| Pandas itertuples()|     0.211000 |\n",
        "| List Comprehension |     0.078400 |\n",
        "| Python Map         |     0.071500 |\n",
        "| NumPy vectorize()  |     0.035700 |\n",
        "| Vectorization      |     0.020000 |\n",
        "| ------------------ | ------------ |\n",
        "| Numba              |     0.018900 |\n",
        "| Pandarallel        |     2.270000 |\n",
        "| Dask               |     2.130000 |\n",
        "| Swifter            |     0.022900 |"
      ]
    }
  ]
}